{
 "cells": [
  {
   "cell_type": "markdown",
   "metadata": {},
   "source": [
    "# Hands-on Tutorial : \"An educational story as sung by data\"\n",
    "During the introductory tutorial, you will get familiar with the R environment, basic data preparation and data analysis of log-files recorded during learning activities that took place in Moodle. You will be given the chance to explore a  learner's practice - as captured by data - and reflect both from the perspective of the learner as well as from the viewpoint of the analyst.\n",
    "\n",
    "If you have any questions about this tutorial, please contact: Irene-Angelica Chounta (chounta@ut.ee)"
   ]
  },
  {
   "cell_type": "markdown",
   "metadata": {},
   "source": [
    "In this tutorial, we will use Jupyter notebook to compose and execute simple R instructions (code) for cleaning and preparing data for further analysis."
   ]
  },
  {
   "cell_type": "markdown",
   "metadata": {},
   "source": [
    "# Read data and set up the environment for analysis"
   ]
  },
  {
   "cell_type": "markdown",
   "metadata": {},
   "source": [
    "<b>Step 1 - Import Libraries</b>\n",
    "First step is to import all the libraries we will need for this example\n"
   ]
  },
  {
   "cell_type": "code",
   "execution_count": null,
   "metadata": {},
   "outputs": [],
   "source": [
    "library(\"ggplot2\")"
   ]
  },
  {
   "cell_type": "markdown",
   "metadata": {},
   "source": [
    "<b>Step 2 - Read Data</b>\n",
    "the name of your datafile is: data.csv. It contains your own data as logged by Moodle during the course:\n",
    "<b>\"Technology use in education\"</b>\n",
    "\n",
    "We have anonymized the data for the purposes of this tutorial\n"
   ]
  },
  {
   "cell_type": "code",
   "execution_count": null,
   "metadata": {},
   "outputs": [],
   "source": [
    "mydata=read.csv(\"data.csv\")\n",
    "print(\"mydata\")\n"
   ]
  },
  {
   "cell_type": "markdown",
   "metadata": {},
   "source": [
    "<b>Step 3 - Validate data<b>\n",
    "check whether data is complete. Is there data missing?\n"
   ]
  },
  {
   "cell_type": "code",
   "execution_count": null,
   "metadata": {},
   "outputs": [],
   "source": [
    "#The variable nrows shows the total number of data entries and the variable ncomplete shows the number of complete data entries\n",
    "#this means that the amount of missing data can be calculated as: nrows - ncomplete\n",
    "\n",
    "nrows <- nrow(mydata)\n",
    "ncomplete <-sum(complete.cases(mydata))\n",
    "\n",
    "sprintf(\"Out of %i rows of data, %i are complete cases and %i data are missing\", nrows, ncomplete, nrows - ncomplete)\n",
    "\n"
   ]
  },
  {
   "cell_type": "markdown",
   "metadata": {},
   "source": [
    "<i><b>Note:</b> In this example, because of the nature of our data (Moodle logfiles), there are no missing data. However, if there were some, we would have to take appropriate action depending on the context and the purpose of our analysis. For example, we could drop the missing data from our dataset or replace missing data with blanks, zeros etc.\n",
    "</i>"
   ]
  },
  {
   "cell_type": "markdown",
   "metadata": {},
   "source": [
    "<b>Step 4 - View variables</b>\n",
    "Lets see what variables are contained in our data \n"
   ]
  },
  {
   "cell_type": "code",
   "execution_count": null,
   "metadata": {},
   "outputs": [],
   "source": [
    "names(mydata)\n"
   ]
  },
  {
   "cell_type": "markdown",
   "metadata": {},
   "source": [
    "<b>Step 5 - Validate format</b>\n",
    "When working with data, we should always ensure that data are in an appropriate format.\n",
    "For example, a numeric variable should be formatted as a number or a text variable is formatted as a string. \n",
    "Lets fix the formatting issue per variable for our own data!"
   ]
  },
  {
   "cell_type": "code",
   "execution_count": null,
   "metadata": {},
   "outputs": [],
   "source": [
    "#formatting Date and Time appropriately\n",
    "mydata$Date <- format(as.POSIXct(mydata$Time,format=\"%d/%m/%Y, %H:%M\"),\"%Y-%m-%d\")\n",
    "mydata$Time.sec <- format(as.POSIXct(mydata$Time,format=\"%d/%m/%Y, %H:%M\"),\"%H:%M\")\n",
    "\n",
    "#formatting the rest of the variables as strings (character)\n",
    "\n",
    "mydata$User.full.name <- as.character(mydata$User.full.name)\n",
    "mydata$Event.context <- as.character(mydata$Event.context)\n",
    "mydata$Component <- as.character(mydata$Component)\n",
    "mydata$Event.name <- as.character(mydata$Event.name)\n",
    "mydata$Description <- as.character(mydata$Description)\n",
    "mydata$Origin <- as.character(mydata$Origin)\n",
    "mydata$IP.address <- as.character(mydata$IP.address)\n",
    "\n",
    "#and lets check our data again!\n",
    "print(mydata)\n"
   ]
  },
  {
   "cell_type": "markdown",
   "metadata": {},
   "source": [
    "# View data"
   ]
  },
  {
   "cell_type": "markdown",
   "metadata": {},
   "source": [
    "Now lets look closer at the contents of some of the variables from our data.\n",
    "For example, lets see what kind of Events has Moodle recorded for this course, what kind of Components does this course use and also these data in combination!"
   ]
  },
  {
   "cell_type": "code",
   "execution_count": null,
   "metadata": {},
   "outputs": [],
   "source": [
    "#print out events\n",
    "print(mydata$Event.name)\n",
    "#print out components and events\n",
    "cat(sprintf(\"\\\"%s\\\" \\\"%s\\\"\\n\", mydata$Component, mydata$Event.name))"
   ]
  },
  {
   "cell_type": "markdown",
   "metadata": {},
   "source": [
    "<i>In most cases, it is useful to have an overview of the user activity over time either by using descriptive statistics to quick summarize our data or by using visualizations. It is common and advisable for analysts to\n",
    "visually inspect data before proceeding with analysis. This helps us to get a better pictures of our data, to gain \n",
    "early insights and eventually to avoid poor interpretations of the analysis results</i>"
   ]
  },
  {
   "cell_type": "code",
   "execution_count": null,
   "metadata": {
    "scrolled": true
   },
   "outputs": [],
   "source": [
    "#show a summary of the number of user actions for different Moodle components.\n",
    "#The following table tells us how many user actions relate to the various components.\n",
    "\n",
    "table(mydata$Component)\n",
    "\n"
   ]
  },
  {
   "cell_type": "code",
   "execution_count": null,
   "metadata": {
    "scrolled": true
   },
   "outputs": [],
   "source": [
    "#show a summary of the number of user actions for different event contexts.\n",
    "#The following table tells us how many user actions relate to the various event contexts\n",
    "\n",
    "\n",
    "table(mydata$Event.context)"
   ]
  },
  {
   "cell_type": "markdown",
   "metadata": {},
   "source": [
    "<b>Question: What components have more actions? Why do you think this happens? How would you explain these numbers?</b>"
   ]
  },
  {
   "cell_type": "markdown",
   "metadata": {},
   "source": [
    "# Data visualizations"
   ]
  },
  {
   "cell_type": "markdown",
   "metadata": {},
   "source": [
    "For the example we explore in this tutorial, we want to have an overview of all the user activity over the \n",
    "whole duration of the course.\n",
    "Therefore we will visualize the user activity over time, as recorded in the Moodle logfile\n",
    "\n",
    "<i>Note: user activity is a discrete variable and a good way to represent it is using bars instead\n",
    "of a continuous line </i>\n"
   ]
  },
  {
   "cell_type": "code",
   "execution_count": null,
   "metadata": {},
   "outputs": [],
   "source": [
    "user_activity = as.data.frame(table(mydata$Date))\n",
    "user_activity\n",
    "ggplot(data=user_activity, aes(x=as.Date(Var1), y=Freq)) + geom_bar(alpha=.5,stat=\"identity\") + xlab(\"Date\") + ylab(\"#user actions\") + labs(title = \"User activity over time\")\n",
    "\n",
    "\n"
   ]
  },
  {
   "cell_type": "markdown",
   "metadata": {},
   "source": [
    "<b>Question: Can you explain qualitatively the patterns of user activity over time? How would you interpret these patterns as a student and how would you interpret them as a researcher?</b>\n"
   ]
  },
  {
   "cell_type": "markdown",
   "metadata": {},
   "source": [
    "<i>In some cases (in most cases to be honest!), we are interested in breaking down user activity and focusing on specific aspects of the activity</i>\n",
    "\n",
    "Lets assume that as analysts we are only interested in the user activity that relates to <b> course assignments and the forum</b>.\n"
   ]
  },
  {
   "cell_type": "code",
   "execution_count": null,
   "metadata": {},
   "outputs": [],
   "source": [
    "#select the user actions that are only related to assignments\n",
    "assignments = mydata[which(mydata$Component == 'Assignment'),]\n",
    "#and the user actions that are only related to forum activity\n",
    "forum = mydata[which(mydata$Component == 'Forum'),]\n",
    "\n",
    "#and prepare a new sub-dataset that contains the number of assignments-related and forum-related actions over time\n",
    "assignments_time = as.data.frame(table(assignments$Date))\n",
    "forum_time = as.data.frame(table(forum$Date))\n",
    "colnames(assignments_time) <- c(\"Date\", \"assigment_related_actions\")\n",
    "colnames(forum_time) <- c(\"Date\", \"forum_related_actions\")\n",
    "total <- merge(assignments_time, forum_time, by= \"Date\", all= TRUE)\n",
    "total$Date <- as.Date(factor(total$Date), format = \"%Y-%m-%d\")\n",
    "\n",
    "#order data by date\n",
    "total <- as.data.frame(total[order(as.Date(total$Date)),])\n",
    "\n",
    "\n",
    "#replace any missing data with zeros\n",
    "total[is.na(total)] <- 0\n",
    "\n",
    "\n",
    "#and plot them!\n",
    "ggplot(data = total, aes(x = Date)) +\n",
    "  geom_line(aes(y = assigment_related_actions, colour = \"Assignments activity\")) +\n",
    "  geom_line(aes(y = forum_related_actions, colour = \"Forum Activity\")) +\n",
    "  \n",
    "  scale_colour_manual(\"\", \n",
    "                      breaks = c(\"Assignments activity\", \"Forum Activity\"),\n",
    "                      values = c(\"blue\", \"red\")) +\n",
    "  xlab(\" \") +\n",
    "  scale_y_continuous(\"Number of user actions\") + \n",
    "  labs(title=\"User activity in assignments and forum over time\")\n"
   ]
  },
  {
   "cell_type": "markdown",
   "metadata": {},
   "source": [
    "<b><i>But why is this even useful?</i></b>\n",
    "In our example, forum activity includes both the viewing activity (that is, when the user just browses the forum discussions) and the posting activity (that is, when the user contributes to the discussion). A common issue of online learning communities is that the majority of learners does not actively contribute to the knowledge exchange by contributing to the creating of content. Instead, they passively follow others' activity without active engagement. This behavior is known as <i><b>lurking</b></i> and it hinders the benefits of <b>learning in a social arena</b>.\n",
    "\n",
    "Lets see how we did with respect to the posting activity!"
   ]
  },
  {
   "cell_type": "code",
   "execution_count": null,
   "metadata": {},
   "outputs": [],
   "source": [
    "#calculate how many times the student viewed a forum discussion\n",
    "views = forum[which(forum$Event.name == \"Discussion viewed\"),]\n",
    "\n",
    "#calculate how many times the student posted in a forum discussion\n",
    "posts = forum[which(forum$Event.name == \"Post created\"),]\n",
    "\n",
    "# here we print out a message\n",
    "sprintf(\"This student visited the forum discussion %i times and posted %i post(s)\", nrow(views), nrow(posts))\n",
    "\n",
    "# and we will also plot a graph of the users activity in the forum\n",
    "vp = cbind(nrow(views), nrow(posts))\n",
    "barplot(vp, main = \"Overview of the user activity in the forum\", names.arg=c(\"number of views\", \"number of posts\"), \n",
    "        col=c(\"darkblue\"))\n"
   ]
  },
  {
   "cell_type": "markdown",
   "metadata": {},
   "source": [
    "# Descriptive Statistics and basic analysis\n",
    "\n",
    "Descriptive statistics are used to describe the basic features of the data in a study. They provide simple summaries about the sample and the measures. Together with simple graphics analysis, they form the basis of virtually every quantitative analysis of data."
   ]
  },
  {
   "cell_type": "code",
   "execution_count": null,
   "metadata": {},
   "outputs": [],
   "source": [
    "# we can also have an overview of the assignments-related and forum-related activity just by calculating basic descriptive\n",
    "# statistics of our variables\n",
    "\n",
    "summary(total$assigment_related_actions)\n",
    "summary(total$forum_related_actions)"
   ]
  },
  {
   "cell_type": "code",
   "execution_count": null,
   "metadata": {},
   "outputs": [],
   "source": [
    "# Another basic form of analysis that researchers usually carry out, is correlation analysis.\n",
    "# Correlation analysis is used to study the strength of a relationship between two, numerically measured variables\n",
    "# (for example, number of assignment-related actions and number of forum-related actions). This type \n",
    "# of analysis is useful when a researcher wants to establish if there are possible connections between variables. \n",
    "\n",
    "# Note: correlations indicate whether there might be a relationship between variables but NOT causality (that is, what is\n",
    "# the cause and what the effect of a phenomenon)\n",
    "\n",
    "\n",
    "#the value of sample estimates cor signifies the strength of corellation and the value of p (p-value) indicates \n",
    "#significance if p<0.05\n",
    "\n",
    "cor.test(total$assigment_related_actions, total$forum_related_actions)\n"
   ]
  },
  {
   "cell_type": "markdown",
   "metadata": {},
   "source": [
    "<b>Question: According to rule of thumb, values between 0.3 and 0.6 indicate medium correlations and values higher than 0.6 indicate strong correlations. This indication is taken into account only if p <0.05 at least. What can you say about your correlation result?</b>"
   ]
  },
  {
   "cell_type": "markdown",
   "metadata": {},
   "source": [
    "Our last task will be to <b>compare</b> the activity of a user in two different courses: a) Technology Use in Education and b) Creative Re-Use.\n",
    "\n",
    "Execute the following code and provide your interpretation of the data visualization. What can you tell about the user's activity in the two courses?"
   ]
  },
  {
   "cell_type": "code",
   "execution_count": null,
   "metadata": {},
   "outputs": [],
   "source": [
    "tu = read.csv(\"TUE.csv\")\n",
    "\n",
    "tu$Date <- format(as.POSIXct(tu$Time,format=\"%d/%m/%Y, %H:%M\"),\"%y-%m-%d\")\n",
    "tu$Time.sec <- format(as.POSIXct(tu$Time,format=\"%d/%m/%Y, %H:%M\"),\"%H:%M\")\n",
    "\n",
    "\n",
    "cr = read.csv(\"CR.csv\")\n",
    "cr$Date <- format(as.POSIXct(cr$Time,format=\"%d/%m/%Y, %H:%M\"),\"%y-%m-%d\")\n",
    "cr$Time.sec <- format(as.POSIXct(cr$Time,format=\"%d/%m/%Y, %H:%M\"),\"%H:%M\")\n",
    "\n",
    "\n",
    "course1 = as.data.frame(table(tu$Date))\n",
    "course2 = as.data.frame(table(cr$Date))\n",
    "colnames(course1) <- c(\"Date\", \"course1\")\n",
    "colnames(course2) <- c(\"Date\", \"course2\")\n",
    "twocourses <- merge(course1, course2, by= \"Date\", all= TRUE)\n",
    "twocourses$Date <- as.Date(factor(twocourses$Date), format = \"%Y-%m-%d\")\n",
    "\n",
    "\n",
    "#order data by date\n",
    "twocourses <- as.data.frame(twocourses[order(as.Date(twocourses$Date)),])\n",
    "\n",
    "#replace any missing data with zeros\n",
    "twocourses[is.na(twocourses)] <- 0\n",
    "\n",
    "\n",
    "#and plot them!\n",
    "ggplot(data = twocourses, aes(x = Date)) +\n",
    "  geom_line(aes(y = course1, colour = \"Technology use in education\")) +\n",
    "  geom_line(aes(y = course2, colour = \"Creative Re-use\")) +\n",
    "  \n",
    "  scale_colour_manual(\"\", \n",
    "                      breaks = c(\"Technology use in education\", \"Creative Re-use\"),\n",
    "                      values = c(\"blue\", \"red\")) +\n",
    "  xlab(\" \") +\n",
    "  scale_y_continuous(\"Number of user actions\") + \n",
    "  labs(title=\"Comparison of user activity in two courses over time\")\n"
   ]
  },
  {
   "cell_type": "markdown",
   "metadata": {},
   "source": [
    "# One last thing....\n",
    "\n",
    "<i> This is only an introduction to R. Please, download R and Rstudio and experiment a bit more by replicating this tutorial and taking it a step further!f you have any comments or questions, please don't hesitate to contact me :)\n",
    "\n",
    "-irene"
   ]
  }
 ],
 "metadata": {
  "kernelspec": {
   "display_name": "R",
   "language": "R",
   "name": "ir"
  },
  "language_info": {
   "codemirror_mode": "r",
   "file_extension": ".r",
   "mimetype": "text/x-r-source",
   "name": "R",
   "pygments_lexer": "r",
   "version": "3.4.4"
  }
 },
 "nbformat": 4,
 "nbformat_minor": 2
}
