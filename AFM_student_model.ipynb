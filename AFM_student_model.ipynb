{
 "cells": [
  {
   "cell_type": "code",
   "execution_count": null,
   "metadata": {},
   "outputs": [],
   "source": [
    "#example with Python\n",
    "#reading data from a file"
   ]
  },
  {
   "cell_type": "code",
   "execution_count": 1,
   "metadata": {},
   "outputs": [
    {
     "name": "stdout",
     "output_type": "stream",
     "text": [
      "\u001b[33mDEPRECATION: Python 2.7 will reach the end of its life on January 1st, 2020. Please upgrade your Python as Python 2.7 won't be maintained after that date. A future version of pip will drop support for Python 2.7. More details about Python 2 support in pip, can be found at https://pip.pypa.io/en/latest/development/release-process/#python-2-support\u001b[0m\n",
      "Requirement already satisfied: pandas in /anaconda2/lib/python2.7/site-packages (0.22.0)\n",
      "Requirement already satisfied: python-dateutil in /anaconda2/lib/python2.7/site-packages (from pandas) (2.6.1)\n",
      "Requirement already satisfied: pytz>=2011k in /anaconda2/lib/python2.7/site-packages (from pandas) (2017.3)\n",
      "Requirement already satisfied: numpy>=1.9.0 in /anaconda2/lib/python2.7/site-packages (from pandas) (1.16.1)\n",
      "Requirement already satisfied: six>=1.5 in /anaconda2/lib/python2.7/site-packages (from python-dateutil->pandas) (1.11.0)\n",
      "\u001b[33mWARNING: You are using pip version 19.2.3, however version 19.3.1 is available.\n",
      "You should consider upgrading via the 'pip install --upgrade pip' command.\u001b[0m\n"
     ]
    }
   ],
   "source": [
    "#this line is only necessary for Jupyter Binder\n",
    "#if you're trying this example on your local environment, you can skip this step!\n",
    "import sys\n",
    "!{sys.executable} -m pip install pandas "
   ]
  },
  {
   "cell_type": "code",
   "execution_count": 9,
   "metadata": {},
   "outputs": [
    {
     "name": "stderr",
     "output_type": "stream",
     "text": [
      "/anaconda2/lib/python2.7/site-packages/statsmodels/compat/pandas.py:56: FutureWarning: The pandas.core.datetools module is deprecated and will be removed in a future version. Please use the pandas.tseries module instead.\n",
      "  from pandas.core import datetools\n"
     ]
    }
   ],
   "source": [
    "#import all the python libraries that we will need for our analysis\n",
    "\n",
    "import numpy as np # linear algebra\n",
    "import pandas as pd # data processing, CSV file I/O (e.g. pd.read_csv)\n",
    "from sklearn.linear_model import LogisticRegression\n",
    "from sklearn import metrics\n",
    "from sklearn.model_selection import train_test_split\n",
    "from sklearn.metrics import classification_report\n",
    "import statsmodels.api as sm\n"
   ]
  },
  {
   "cell_type": "code",
   "execution_count": 3,
   "metadata": {},
   "outputs": [
    {
     "data": {
      "text/html": [
       "<div>\n",
       "<style scoped>\n",
       "    .dataframe tbody tr th:only-of-type {\n",
       "        vertical-align: middle;\n",
       "    }\n",
       "\n",
       "    .dataframe tbody tr th {\n",
       "        vertical-align: top;\n",
       "    }\n",
       "\n",
       "    .dataframe thead th {\n",
       "        text-align: right;\n",
       "    }\n",
       "</style>\n",
       "<table border=\"1\" class=\"dataframe\">\n",
       "  <thead>\n",
       "    <tr style=\"text-align: right;\">\n",
       "      <th></th>\n",
       "      <th>Row</th>\n",
       "      <th>Sample</th>\n",
       "      <th>Anon Student Id</th>\n",
       "      <th>Problem Hierarchy</th>\n",
       "      <th>Problem Name</th>\n",
       "      <th>Problem View</th>\n",
       "      <th>Step Name</th>\n",
       "      <th>Step Start Time</th>\n",
       "      <th>First Transaction Time</th>\n",
       "      <th>Correct Transaction Time</th>\n",
       "      <th>...</th>\n",
       "      <th>Step Duration (sec)</th>\n",
       "      <th>Correct Step Duration (sec)</th>\n",
       "      <th>Error Step Duration (sec)</th>\n",
       "      <th>First Attempt</th>\n",
       "      <th>Incorrects</th>\n",
       "      <th>Hints</th>\n",
       "      <th>Corrects</th>\n",
       "      <th>Condition</th>\n",
       "      <th>KC</th>\n",
       "      <th>Opportunity</th>\n",
       "    </tr>\n",
       "  </thead>\n",
       "  <tbody>\n",
       "    <tr>\n",
       "      <th>0</th>\n",
       "      <td>1</td>\n",
       "      <td>All Data</td>\n",
       "      <td>Stu_02ee1b3f31a6f6a7f4b8012298b2395e</td>\n",
       "      <td>Unit Area</td>\n",
       "      <td>RECTANGLE_ABCD</td>\n",
       "      <td>1</td>\n",
       "      <td>(AREA QUESTION1)</td>\n",
       "      <td>02/01/1996 00:00</td>\n",
       "      <td>02/01/1996 00:00</td>\n",
       "      <td>02/01/1996 00:00</td>\n",
       "      <td>...</td>\n",
       "      <td>0</td>\n",
       "      <td>0</td>\n",
       "      <td>.</td>\n",
       "      <td>correct</td>\n",
       "      <td>0</td>\n",
       "      <td>0</td>\n",
       "      <td>1</td>\n",
       "      <td>.</td>\n",
       "      <td>Non-area formula</td>\n",
       "      <td>1</td>\n",
       "    </tr>\n",
       "    <tr>\n",
       "      <th>1</th>\n",
       "      <td>2</td>\n",
       "      <td>All Data</td>\n",
       "      <td>Stu_02ee1b3f31a6f6a7f4b8012298b2395e</td>\n",
       "      <td>Unit Area</td>\n",
       "      <td>RECTANGLE_ABCD</td>\n",
       "      <td>1</td>\n",
       "      <td>(HEIGHT QUESTION2)</td>\n",
       "      <td>02/01/1996 00:00</td>\n",
       "      <td>02/01/1996 00:02</td>\n",
       "      <td>02/01/1996 00:02</td>\n",
       "      <td>...</td>\n",
       "      <td>128</td>\n",
       "      <td>128</td>\n",
       "      <td>.</td>\n",
       "      <td>correct</td>\n",
       "      <td>0</td>\n",
       "      <td>0</td>\n",
       "      <td>1</td>\n",
       "      <td>.</td>\n",
       "      <td>Non-area formula</td>\n",
       "      <td>2</td>\n",
       "    </tr>\n",
       "    <tr>\n",
       "      <th>2</th>\n",
       "      <td>3</td>\n",
       "      <td>All Data</td>\n",
       "      <td>Stu_02ee1b3f31a6f6a7f4b8012298b2395e</td>\n",
       "      <td>Unit Area</td>\n",
       "      <td>RECTANGLE_ABCD</td>\n",
       "      <td>1</td>\n",
       "      <td>(BASE QUESTION3)</td>\n",
       "      <td>02/01/1996 00:02</td>\n",
       "      <td>02/01/1996 00:03</td>\n",
       "      <td>02/01/1996 00:03</td>\n",
       "      <td>...</td>\n",
       "      <td>29</td>\n",
       "      <td>29</td>\n",
       "      <td>.</td>\n",
       "      <td>correct</td>\n",
       "      <td>0</td>\n",
       "      <td>0</td>\n",
       "      <td>1</td>\n",
       "      <td>.</td>\n",
       "      <td>Non-area formula</td>\n",
       "      <td>3</td>\n",
       "    </tr>\n",
       "    <tr>\n",
       "      <th>3</th>\n",
       "      <td>4</td>\n",
       "      <td>All Data</td>\n",
       "      <td>Stu_02ee1b3f31a6f6a7f4b8012298b2395e</td>\n",
       "      <td>Unit Area</td>\n",
       "      <td>BUILDING_A_SIDEWALK</td>\n",
       "      <td>1</td>\n",
       "      <td>(POOL-AREA QUESTION1)</td>\n",
       "      <td>02/01/1996 00:04</td>\n",
       "      <td>02/01/1996 00:04</td>\n",
       "      <td>02/01/1996 00:04</td>\n",
       "      <td>...</td>\n",
       "      <td>0</td>\n",
       "      <td>0</td>\n",
       "      <td>.</td>\n",
       "      <td>correct</td>\n",
       "      <td>0</td>\n",
       "      <td>0</td>\n",
       "      <td>1</td>\n",
       "      <td>.</td>\n",
       "      <td>Non-area formula</td>\n",
       "      <td>4</td>\n",
       "    </tr>\n",
       "    <tr>\n",
       "      <th>4</th>\n",
       "      <td>5</td>\n",
       "      <td>All Data</td>\n",
       "      <td>Stu_02ee1b3f31a6f6a7f4b8012298b2395e</td>\n",
       "      <td>Unit Area</td>\n",
       "      <td>BUILDING_A_SIDEWALK</td>\n",
       "      <td>1</td>\n",
       "      <td>(LARGE-RECTANGLE-AREA QUESTION1)</td>\n",
       "      <td>02/01/1996 00:04</td>\n",
       "      <td>02/01/1996 00:04</td>\n",
       "      <td>02/01/1996 00:04</td>\n",
       "      <td>...</td>\n",
       "      <td>12</td>\n",
       "      <td>12</td>\n",
       "      <td>.</td>\n",
       "      <td>correct</td>\n",
       "      <td>0</td>\n",
       "      <td>0</td>\n",
       "      <td>1</td>\n",
       "      <td>.</td>\n",
       "      <td>Non-area formula</td>\n",
       "      <td>5</td>\n",
       "    </tr>\n",
       "  </tbody>\n",
       "</table>\n",
       "<p>5 rows × 21 columns</p>\n",
       "</div>"
      ],
      "text/plain": [
       "   Row    Sample                       Anon Student Id Problem Hierarchy  \\\n",
       "0    1  All Data  Stu_02ee1b3f31a6f6a7f4b8012298b2395e         Unit Area   \n",
       "1    2  All Data  Stu_02ee1b3f31a6f6a7f4b8012298b2395e         Unit Area   \n",
       "2    3  All Data  Stu_02ee1b3f31a6f6a7f4b8012298b2395e         Unit Area   \n",
       "3    4  All Data  Stu_02ee1b3f31a6f6a7f4b8012298b2395e         Unit Area   \n",
       "4    5  All Data  Stu_02ee1b3f31a6f6a7f4b8012298b2395e         Unit Area   \n",
       "\n",
       "          Problem Name  Problem View                         Step Name  \\\n",
       "0       RECTANGLE_ABCD             1                  (AREA QUESTION1)   \n",
       "1       RECTANGLE_ABCD             1                (HEIGHT QUESTION2)   \n",
       "2       RECTANGLE_ABCD             1                  (BASE QUESTION3)   \n",
       "3  BUILDING_A_SIDEWALK             1             (POOL-AREA QUESTION1)   \n",
       "4  BUILDING_A_SIDEWALK             1  (LARGE-RECTANGLE-AREA QUESTION1)   \n",
       "\n",
       "    Step Start Time First Transaction Time Correct Transaction Time  \\\n",
       "0  02/01/1996 00:00       02/01/1996 00:00         02/01/1996 00:00   \n",
       "1  02/01/1996 00:00       02/01/1996 00:02         02/01/1996 00:02   \n",
       "2  02/01/1996 00:02       02/01/1996 00:03         02/01/1996 00:03   \n",
       "3  02/01/1996 00:04       02/01/1996 00:04         02/01/1996 00:04   \n",
       "4  02/01/1996 00:04       02/01/1996 00:04         02/01/1996 00:04   \n",
       "\n",
       "      ...     Step Duration (sec)  Correct Step Duration (sec)  \\\n",
       "0     ...                       0                            0   \n",
       "1     ...                     128                          128   \n",
       "2     ...                      29                           29   \n",
       "3     ...                       0                            0   \n",
       "4     ...                      12                           12   \n",
       "\n",
       "  Error Step Duration (sec) First Attempt Incorrects  Hints  Corrects  \\\n",
       "0                         .       correct          0      0         1   \n",
       "1                         .       correct          0      0         1   \n",
       "2                         .       correct          0      0         1   \n",
       "3                         .       correct          0      0         1   \n",
       "4                         .       correct          0      0         1   \n",
       "\n",
       "   Condition                KC Opportunity  \n",
       "0          .  Non-area formula           1  \n",
       "1          .  Non-area formula           2  \n",
       "2          .  Non-area formula           3  \n",
       "3          .  Non-area formula           4  \n",
       "4          .  Non-area formula           5  \n",
       "\n",
       "[5 rows x 21 columns]"
      ]
     },
     "execution_count": 3,
     "metadata": {},
     "output_type": "execute_result"
    }
   ],
   "source": [
    "# Read data from file 'geometryITS.csv' \n",
    "# (in the same directory that your python process is based)\n",
    " \n",
    "data = pd.read_csv(\"geometryITS.csv\") \n",
    "\n",
    "\n",
    "# Preview the first 5 lines of the loaded data \n",
    "data.head()"
   ]
  },
  {
   "cell_type": "code",
   "execution_count": 4,
   "metadata": {},
   "outputs": [
    {
     "data": {
      "text/plain": [
       "['Row',\n",
       " 'Sample',\n",
       " 'Anon Student Id',\n",
       " 'Problem Hierarchy',\n",
       " 'Problem Name',\n",
       " 'Problem View',\n",
       " 'Step Name',\n",
       " 'Step Start Time',\n",
       " 'First Transaction Time',\n",
       " 'Correct Transaction Time',\n",
       " 'Step End Time',\n",
       " 'Step Duration (sec)',\n",
       " 'Correct Step Duration (sec)',\n",
       " 'Error Step Duration (sec)',\n",
       " 'First Attempt',\n",
       " 'Incorrects',\n",
       " 'Hints',\n",
       " 'Corrects',\n",
       " 'Condition',\n",
       " 'KC',\n",
       " 'Opportunity']"
      ]
     },
     "execution_count": 4,
     "metadata": {},
     "output_type": "execute_result"
    }
   ],
   "source": [
    "#view all variables that are recorded in the dataset\n",
    "list(data)"
   ]
  },
  {
   "cell_type": "markdown",
   "metadata": {},
   "source": [
    "## What are we doing today?\n",
    "\n",
    "In this example, we will implement the Additive Factors Model (AFM) proposed by Cen, et. al.\n",
    "[Cen, H., Koedinger, K., & Junker, B. (2008, June). Comparing two IRT models for conjunctive skills. In International Conference on Intelligent Tutoring Systems (pp. 796-798). Springer, Berlin, Heidelberg.]\n",
    "\n",
    "The AFM student model predicts student performance on every step based on student's prior practice (number of practice opportunities) and other factors, such as step difficulty, student's proficiency, learning rate and so on. \n",
    "\n",
    "To implement the model, we will use logistic regression and we will train and test using the Geometry Tutor dataset."
   ]
  },
  {
   "cell_type": "markdown",
   "metadata": {},
   "source": [
    "## Student model \n",
    "The AFM equation (see Cen's paper) states that in order to predict student's performance we need to know as input the knowledge component (KC) that is involved in every step and the number of practice opportunities - that is, how many times the student has tried this step before. Also, since the model predicts individual learning, we have to take into account the student's ID.\n",
    "\n",
    "The result of the each student's attempt is depicted by the column \"first attempt\" (the name of the column is misleading, i know!). So we use this, to create the \"outcome\" variable, that is - the variable we want to predict. Here, 0 signifies an incorrect answer and 1 signified a correct asnwer.\n",
    "\n",
    "Simply put, the equation that we want to implement should look something like this:\n",
    "\n",
    "Outcome ~ Opportunity + KC + (1| Anon Student ID)   [equation (1)]\n",
    "\n",
    "which rougly translates to: the outcome is predicted based on the knowledge component (skill) that is tested and the number of prior opportunities a student had, taking into account the random effect that may come into place regarding student's individual characteristics.\n",
    "\n",
    "Now lets go and fit the model!"
   ]
  },
  {
   "cell_type": "code",
   "execution_count": 40,
   "metadata": {},
   "outputs": [],
   "source": [
    "#create a new column to classify final results. classify steps with a corrent answer as \"1\", the rest as \"0\"\n",
    "data[\"outcome\"] = 1\n",
    "\n",
    "#studentInfo[\"result.class\"] = studentInfo[\"final_result\"].apply(lambda x: 0 if (x == 'Fail') | x == \"Withdrawn\") else 1)\n",
    "data[\"outcome\"].loc[(data[\"First Attempt\"] == \"incorrect\")] = 0\n"
   ]
  },
  {
   "cell_type": "markdown",
   "metadata": {},
   "source": [
    "## Fitting the AFM model\n",
    "Now we will fit our model. We will use a part of the dataset to train the model (let's say 80% of the data) and we will also keep a part of the old data to test our model's performance (let's say the rest 20% of the data).\n",
    "\n",
    "The datasets used for training have the suffix \"_train\" while the datasets saved for testing have the suffix \"_test\". "
   ]
  },
  {
   "cell_type": "code",
   "execution_count": 41,
   "metadata": {},
   "outputs": [],
   "source": [
    "data_train, data_test = train_test_split(data, test_size=0.2, random_state=0)"
   ]
  },
  {
   "cell_type": "code",
   "execution_count": 42,
   "metadata": {},
   "outputs": [
    {
     "name": "stdout",
     "output_type": "stream",
     "text": [
      "              Mixed Linear Model Regression Results\n",
      "================================================================\n",
      "Model:                MixedLM   Dependent Variable:   outcome   \n",
      "No. Observations:     4083      Method:               REML      \n",
      "No. Groups:           59        Scale:                0.1788    \n",
      "Min. group size:      2         Likelihood:           -2333.1763\n",
      "Max. group size:      196       Converged:            Yes       \n",
      "Mean group size:      69.2                                      \n",
      "----------------------------------------------------------------\n",
      "                       Coef. Std.Err.   z    P>|z| [0.025 0.975]\n",
      "----------------------------------------------------------------\n",
      "Intercept              0.720    0.021 33.593 0.000  0.678  0.762\n",
      "KC[T.Non-area formula] 0.008    0.014  0.582 0.561 -0.020  0.037\n",
      "Opportunity            0.000    0.000  0.292 0.770 -0.000  0.001\n",
      "groups RE              0.012    0.011                           \n",
      "================================================================\n",
      "\n"
     ]
    }
   ],
   "source": [
    "#data = pd.read_csv(\"dietox.csv\")\n",
    "model = sm.MixedLM.from_formula(\"outcome ~ Opportunity + KC\", data_train, groups=data_train[\"Anon Student Id\"])\n",
    "result = model.fit()\n",
    "print result.summary()"
   ]
  },
  {
   "cell_type": "markdown",
   "metadata": {},
   "source": [
    "Now lets use the newly fitted model to predict the outcomes of the test set. To keep it simple, we're just calculating the Mean Absolute Error as a performance metric. Of course there are other, more sofisticated evaluation methods but these are beyond the scope of this course!"
   ]
  },
  {
   "cell_type": "code",
   "execution_count": 43,
   "metadata": {},
   "outputs": [
    {
     "name": "stderr",
     "output_type": "stream",
     "text": [
      "/anaconda2/lib/python2.7/site-packages/ipykernel_launcher.py:3: SettingWithCopyWarning: \n",
      "A value is trying to be set on a copy of a slice from a DataFrame.\n",
      "Try using .loc[row_indexer,col_indexer] = value instead\n",
      "\n",
      "See the caveats in the documentation: http://pandas.pydata.org/pandas-docs/stable/indexing.html#indexing-view-versus-copy\n",
      "  This is separate from the ipykernel package so we can avoid doing imports until\n",
      "/anaconda2/lib/python2.7/site-packages/ipykernel_launcher.py:4: SettingWithCopyWarning: \n",
      "A value is trying to be set on a copy of a slice from a DataFrame.\n",
      "Try using .loc[row_indexer,col_indexer] = value instead\n",
      "\n",
      "See the caveats in the documentation: http://pandas.pydata.org/pandas-docs/stable/indexing.html#indexing-view-versus-copy\n",
      "  after removing the cwd from sys.path.\n",
      "/anaconda2/lib/python2.7/site-packages/ipykernel_launcher.py:6: SettingWithCopyWarning: \n",
      "A value is trying to be set on a copy of a slice from a DataFrame\n",
      "\n",
      "See the caveats in the documentation: http://pandas.pydata.org/pandas-docs/stable/indexing.html#indexing-view-versus-copy\n",
      "  \n"
     ]
    },
    {
     "data": {
      "text/plain": [
       "0.2595494613124388"
      ]
     },
     "execution_count": 43,
     "metadata": {},
     "output_type": "execute_result"
    }
   ],
   "source": [
    "#predict on a testset\n",
    "y_pred = result.predict(data_test)\n",
    "data_test[\"y_pred\"] = y_pred\n",
    "data_test[\"outcome_pred\"] = 1\n",
    "\n",
    "data_test[\"outcome_pred\"].loc[(data_test[\"y_pred\"] <0.5)] = 0\n",
    "error = abs(data_test[\"outcome_pred\"] - data_test[\"outcome\"])\n",
    "float(sum(error))/float(len(error))"
   ]
  },
  {
   "cell_type": "markdown",
   "metadata": {},
   "source": [
    "So, our model is able to predict student performance with a 26% error.\n",
    "Not bad for such a simple approach, right?"
   ]
  },
  {
   "cell_type": "markdown",
   "metadata": {},
   "source": [
    "## Assigment 3\n",
    "\n",
    "Pavlik et.al [Pavlik Jr, P. I., Cen, H., & Koedinger, K. R. (2009). Performance Factors Analysis--A New Alternative to Knowledge Tracing. Online Submission.] took the AFM model further by proposing to use - instead of prior opportunities - prior correct and prior incorrect answers for each step - they named this new model the Performance Factors Analysis Model (PFM). \n",
    "The simplified [equation (1)], for the PFM model can be written as:\n",
    "\n",
    "Outcome ~ Prior Correct + Prior Incorrect + KC + (1| Anon Student ID)   [equation (2)]\n",
    "\n",
    "For the third assignment, you have to do teh following:\n",
    "1. Modify the AFM model provided in this example in order to implement the PFM model. You already have information about the correct and incorrect answers in the dataset. \n",
    "2. Use the PFM model to predict student performance and compare the results with the AFM model. Discuss your findings.\n",
    "3. Propose additional factors that you could take into account in order to improve the student model. You can be as creative as you like\n",
    "\n"
   ]
  },
  {
   "cell_type": "code",
   "execution_count": 29,
   "metadata": {},
   "outputs": [],
   "source": [
    "error = abs(data_test[\"outcome_pred\"] - data_test[\"outcome\"])"
   ]
  },
  {
   "cell_type": "code",
   "execution_count": 30,
   "metadata": {},
   "outputs": [
    {
     "ename": "NameError",
     "evalue": "name 'mean' is not defined",
     "output_type": "error",
     "traceback": [
      "\u001b[0;31m\u001b[0m",
      "\u001b[0;31mNameError\u001b[0mTraceback (most recent call last)",
      "\u001b[0;32m<ipython-input-30-5fa9b0d87f97>\u001b[0m in \u001b[0;36m<module>\u001b[0;34m()\u001b[0m\n\u001b[0;32m----> 1\u001b[0;31m \u001b[0mmean\u001b[0m\u001b[0;34m(\u001b[0m\u001b[0merror\u001b[0m\u001b[0;34m)\u001b[0m\u001b[0;34m\u001b[0m\u001b[0m\n\u001b[0m",
      "\u001b[0;31mNameError\u001b[0m: name 'mean' is not defined"
     ]
    }
   ],
   "source": [
    "mean(error)"
   ]
  },
  {
   "cell_type": "code",
   "execution_count": 39,
   "metadata": {},
   "outputs": [
    {
     "data": {
      "text/plain": [
       "0.2595494613124388"
      ]
     },
     "execution_count": 39,
     "metadata": {},
     "output_type": "execute_result"
    }
   ],
   "source": [
    "float(sum(error))/float(len(error))\n"
   ]
  },
  {
   "cell_type": "code",
   "execution_count": 37,
   "metadata": {},
   "outputs": [
    {
     "data": {
      "text/plain": [
       "265"
      ]
     },
     "execution_count": 37,
     "metadata": {},
     "output_type": "execute_result"
    }
   ],
   "source": [
    "sum(error)"
   ]
  },
  {
   "cell_type": "code",
   "execution_count": 38,
   "metadata": {},
   "outputs": [
    {
     "data": {
      "text/plain": [
       "1021"
      ]
     },
     "execution_count": 38,
     "metadata": {},
     "output_type": "execute_result"
    }
   ],
   "source": [
    "len(error)"
   ]
  },
  {
   "cell_type": "code",
   "execution_count": null,
   "metadata": {},
   "outputs": [],
   "source": []
  }
 ],
 "metadata": {
  "kernelspec": {
   "display_name": "Python 2",
   "language": "python",
   "name": "python2"
  },
  "language_info": {
   "codemirror_mode": {
    "name": "ipython",
    "version": 2
   },
   "file_extension": ".py",
   "mimetype": "text/x-python",
   "name": "python",
   "nbconvert_exporter": "python",
   "pygments_lexer": "ipython2",
   "version": "2.7.14"
  }
 },
 "nbformat": 4,
 "nbformat_minor": 2
}
